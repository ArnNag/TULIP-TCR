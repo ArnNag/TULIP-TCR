{
 "cells": [
  {
   "cell_type": "code",
   "id": "initial_id",
   "metadata": {
    "collapsed": true,
    "ExecuteTime": {
     "end_time": "2025-04-03T18:16:17.815508Z",
     "start_time": "2025-04-03T18:16:17.809618Z"
    }
   },
   "source": [
    "from transformers import AutoTokenizer\n",
    "import json"
   ],
   "outputs": [],
   "execution_count": 4
  },
  {
   "metadata": {
    "ExecuteTime": {
     "end_time": "2025-04-03T18:52:38.741269Z",
     "start_time": "2025-04-03T18:52:38.737801Z"
    }
   },
   "cell_type": "code",
   "source": [
    "def get_tokenizer():\n",
    "    tokenizer = AutoTokenizer.from_pretrained(\"aatok\")\n",
    "    if tokenizer.pad_token is None:\n",
    "        tokenizer.add_special_tokens({'pad_token': '<PAD>'})\n",
    "\n",
    "    if tokenizer.sep_token is None:\n",
    "        tokenizer.add_special_tokens({'sep_token': '<MIS>'})\n",
    "\n",
    "    if tokenizer.cls_token is None:\n",
    "        tokenizer.add_special_tokens({'cls_token': '<CLS>'})\n",
    "\n",
    "    if tokenizer.eos_token is None:\n",
    "        tokenizer.add_special_tokens({'eos_token': '<EOS>'})\n",
    "\n",
    "    if tokenizer.mask_token is None:\n",
    "        tokenizer.add_special_tokens({'mask_token': '<MASK>'})\n",
    "\n",
    "    from tokenizers.processors import TemplateProcessing\n",
    "    tokenizer._tokenizer.post_processor = TemplateProcessing(\n",
    "        single=\"<CLS> $A <EOS>\",\n",
    "        pair=\"<CLS> $A <MIS> $B:1 <EOS>:1\",\n",
    "        special_tokens=[\n",
    "            (\"<EOS>\", 2),\n",
    "            (\"<CLS>\", 3),\n",
    "            (\"<MIS>\", 4),\n",
    "        ],\n",
    "    )\n",
    "    return tokenizer\n"
   ],
   "id": "3c9b0b51eb8c0546",
   "outputs": [],
   "execution_count": 20
  },
  {
   "metadata": {
    "ExecuteTime": {
     "end_time": "2025-04-03T18:52:46.087438Z",
     "start_time": "2025-04-03T18:52:46.083792Z"
    }
   },
   "cell_type": "code",
   "source": "tokenizer = get_tokenizer()",
   "id": "dee50a062ae3c6d4",
   "outputs": [],
   "execution_count": 21
  },
  {
   "metadata": {
    "ExecuteTime": {
     "end_time": "2025-04-03T18:16:34.207438Z",
     "start_time": "2025-04-03T18:16:34.200740Z"
    }
   },
   "cell_type": "code",
   "source": "",
   "id": "1ac7f3fbb9d4a331",
   "outputs": [],
   "execution_count": 6
  },
  {
   "metadata": {
    "ExecuteTime": {
     "end_time": "2025-04-02T00:53:31.005951Z",
     "start_time": "2025-04-02T00:53:30.997240Z"
    }
   },
   "cell_type": "code",
   "source": "tokenizer(\"<MIS>\")",
   "id": "a4d987eb670a50b3",
   "outputs": [
    {
     "data": {
      "text/plain": [
       "{'input_ids': [4, 2], 'token_type_ids': [0, 0], 'attention_mask': [1, 1]}"
      ]
     },
     "execution_count": 10,
     "metadata": {},
     "output_type": "execute_result"
    }
   ],
   "execution_count": 10
  },
  {
   "metadata": {
    "ExecuteTime": {
     "end_time": "2025-04-02T01:11:44.324011Z",
     "start_time": "2025-04-02T01:11:44.316940Z"
    }
   },
   "cell_type": "code",
   "source": [
    "with open(\"configs/shallow.config.json\", \"r\") as read_file:\n",
    "    modelconfig = json.load(read_file)\n"
   ],
   "id": "16d673884e6c556",
   "outputs": [
    {
     "name": "stdout",
     "output_type": "stream",
     "text": [
      "loading hyperparameter\n"
     ]
    }
   ],
   "execution_count": 13
  },
  {
   "metadata": {
    "ExecuteTime": {
     "end_time": "2025-04-02T01:09:23.538916Z",
     "start_time": "2025-04-02T01:09:23.535717Z"
    }
   },
   "cell_type": "code",
   "source": "vocabsize = len(tokenizer._tokenizer.get_vocab())\n",
   "id": "3b647d04ca2eed42",
   "outputs": [],
   "execution_count": 11
  },
  {
   "metadata": {
    "ExecuteTime": {
     "end_time": "2025-04-02T01:11:49.239507Z",
     "start_time": "2025-04-02T01:11:49.228489Z"
    }
   },
   "cell_type": "code",
   "source": [
    "from transformers import BertConfig\n",
    "\n",
    "decoder_config = BertConfig(vocab_size = vocabsize,\n",
    "                        max_position_embeddings=50, # this shuold be some large value\n",
    "                        num_attention_heads=modelconfig[\"num_attn_heads\"],\n",
    "                        num_hidden_layers = modelconfig[\"num_hidden_layers\"],\n",
    "                        hidden_size = modelconfig[\"hidden_size\"],\n",
    "                        type_vocab_size = 1,\n",
    "                        is_decoder=True,\n",
    "                        pad_token_id =  tokenizer.pad_token_id)    # Very Important\n"
   ],
   "id": "4f5ef1a07f602baf",
   "outputs": [],
   "execution_count": 14
  },
  {
   "metadata": {
    "ExecuteTime": {
     "end_time": "2025-04-02T01:12:03.457167Z",
     "start_time": "2025-04-02T01:12:03.343362Z"
    }
   },
   "cell_type": "code",
   "source": "from src.multiTrans import TulipPetal",
   "id": "d4b1eaa133662fc0",
   "outputs": [],
   "execution_count": 16
  },
  {
   "metadata": {
    "ExecuteTime": {
     "end_time": "2025-04-02T01:12:04.503976Z",
     "start_time": "2025-04-02T01:12:04.456644Z"
    }
   },
   "cell_type": "code",
   "source": "tulip_petal = TulipPetal(config=decoder_config)",
   "id": "336f4a487c89df1d",
   "outputs": [
    {
     "name": "stdout",
     "output_type": "stream",
     "text": [
      "self.pad_token_id None\n"
     ]
    }
   ],
   "execution_count": 17
  },
  {
   "metadata": {
    "ExecuteTime": {
     "end_time": "2025-04-02T01:12:12.323801Z",
     "start_time": "2025-04-02T01:12:12.150507Z"
    }
   },
   "cell_type": "code",
   "source": "tulip_petal()",
   "id": "a599caf516f750d7",
   "outputs": [
    {
     "ename": "TypeError",
     "evalue": "sum() received an invalid combination of arguments - got (bool, dim=int), but expected one of:\n * (Tensor input, *, torch.dtype dtype = None)\n * (Tensor input, tuple of ints dim, bool keepdim = False, *, torch.dtype dtype = None, Tensor out = None)\n * (Tensor input, tuple of names dim, bool keepdim = False, *, torch.dtype dtype = None, Tensor out = None)\n",
     "output_type": "error",
     "traceback": [
      "\u001B[31m---------------------------------------------------------------------------\u001B[39m",
      "\u001B[31mTypeError\u001B[39m                                 Traceback (most recent call last)",
      "\u001B[36mCell\u001B[39m\u001B[36m \u001B[39m\u001B[32mIn[18]\u001B[39m\u001B[32m, line 1\u001B[39m\n\u001B[32m----> \u001B[39m\u001B[32m1\u001B[39m \u001B[43mtulip_petal\u001B[49m\u001B[43m(\u001B[49m\u001B[43m)\u001B[49m\n",
      "\u001B[36mFile \u001B[39m\u001B[32m~/miniforge3/envs/tulip/lib/python3.13/site-packages/torch/nn/modules/module.py:1739\u001B[39m, in \u001B[36mModule._wrapped_call_impl\u001B[39m\u001B[34m(self, *args, **kwargs)\u001B[39m\n\u001B[32m   1737\u001B[39m     \u001B[38;5;28;01mreturn\u001B[39;00m \u001B[38;5;28mself\u001B[39m._compiled_call_impl(*args, **kwargs)  \u001B[38;5;66;03m# type: ignore[misc]\u001B[39;00m\n\u001B[32m   1738\u001B[39m \u001B[38;5;28;01melse\u001B[39;00m:\n\u001B[32m-> \u001B[39m\u001B[32m1739\u001B[39m     \u001B[38;5;28;01mreturn\u001B[39;00m \u001B[38;5;28;43mself\u001B[39;49m\u001B[43m.\u001B[49m\u001B[43m_call_impl\u001B[49m\u001B[43m(\u001B[49m\u001B[43m*\u001B[49m\u001B[43margs\u001B[49m\u001B[43m,\u001B[49m\u001B[43m \u001B[49m\u001B[43m*\u001B[49m\u001B[43m*\u001B[49m\u001B[43mkwargs\u001B[49m\u001B[43m)\u001B[49m\n",
      "\u001B[36mFile \u001B[39m\u001B[32m~/miniforge3/envs/tulip/lib/python3.13/site-packages/torch/nn/modules/module.py:1750\u001B[39m, in \u001B[36mModule._call_impl\u001B[39m\u001B[34m(self, *args, **kwargs)\u001B[39m\n\u001B[32m   1745\u001B[39m \u001B[38;5;66;03m# If we don't have any hooks, we want to skip the rest of the logic in\u001B[39;00m\n\u001B[32m   1746\u001B[39m \u001B[38;5;66;03m# this function, and just call forward.\u001B[39;00m\n\u001B[32m   1747\u001B[39m \u001B[38;5;28;01mif\u001B[39;00m \u001B[38;5;129;01mnot\u001B[39;00m (\u001B[38;5;28mself\u001B[39m._backward_hooks \u001B[38;5;129;01mor\u001B[39;00m \u001B[38;5;28mself\u001B[39m._backward_pre_hooks \u001B[38;5;129;01mor\u001B[39;00m \u001B[38;5;28mself\u001B[39m._forward_hooks \u001B[38;5;129;01mor\u001B[39;00m \u001B[38;5;28mself\u001B[39m._forward_pre_hooks\n\u001B[32m   1748\u001B[39m         \u001B[38;5;129;01mor\u001B[39;00m _global_backward_pre_hooks \u001B[38;5;129;01mor\u001B[39;00m _global_backward_hooks\n\u001B[32m   1749\u001B[39m         \u001B[38;5;129;01mor\u001B[39;00m _global_forward_hooks \u001B[38;5;129;01mor\u001B[39;00m _global_forward_pre_hooks):\n\u001B[32m-> \u001B[39m\u001B[32m1750\u001B[39m     \u001B[38;5;28;01mreturn\u001B[39;00m \u001B[43mforward_call\u001B[49m\u001B[43m(\u001B[49m\u001B[43m*\u001B[49m\u001B[43margs\u001B[49m\u001B[43m,\u001B[49m\u001B[43m \u001B[49m\u001B[43m*\u001B[49m\u001B[43m*\u001B[49m\u001B[43mkwargs\u001B[49m\u001B[43m)\u001B[49m\n\u001B[32m   1752\u001B[39m result = \u001B[38;5;28;01mNone\u001B[39;00m\n\u001B[32m   1753\u001B[39m called_always_called_hooks = \u001B[38;5;28mset\u001B[39m()\n",
      "\u001B[36mFile \u001B[39m\u001B[32m~/PycharmProjects/TULIP-TCR/src/multiTrans.py:426\u001B[39m, in \u001B[36mTulipPetal.forward\u001B[39m\u001B[34m(self, input_ids, attention_mask, token_type_ids, position_ids, head_mask, inputs_embeds, encoder_hidden_states, encoder_attention_mask, labels, past_key_values, use_cache, output_attentions, output_hidden_states, return_dict)\u001B[39m\n\u001B[32m    424\u001B[39m temp = input_ids != \u001B[38;5;28mself\u001B[39m.pad_token_id\n\u001B[32m    425\u001B[39m \u001B[38;5;66;03m# print('temp', temp)\u001B[39;00m\n\u001B[32m--> \u001B[39m\u001B[32m426\u001B[39m targetind  = \u001B[43mtorch\u001B[49m\u001B[43m.\u001B[49m\u001B[43msum\u001B[49m\u001B[43m(\u001B[49m\u001B[43mtemp\u001B[49m\u001B[43m,\u001B[49m\u001B[43m \u001B[49m\u001B[43mdim\u001B[49m\u001B[43m=\u001B[49m\u001B[32;43m1\u001B[39;49m\u001B[43m)\u001B[49m - \u001B[32m1\u001B[39m\n\u001B[32m    428\u001B[39m outputs = \u001B[38;5;28mself\u001B[39m.bert(\n\u001B[32m    429\u001B[39m     input_ids,\n\u001B[32m    430\u001B[39m     attention_mask=attention_mask,\n\u001B[32m   (...)\u001B[39m\u001B[32m    441\u001B[39m     return_dict=return_dict,\n\u001B[32m    442\u001B[39m )\n\u001B[32m    444\u001B[39m sequence_output = outputs[\u001B[32m0\u001B[39m]\n",
      "\u001B[31mTypeError\u001B[39m: sum() received an invalid combination of arguments - got (bool, dim=int), but expected one of:\n * (Tensor input, *, torch.dtype dtype = None)\n * (Tensor input, tuple of ints dim, bool keepdim = False, *, torch.dtype dtype = None, Tensor out = None)\n * (Tensor input, tuple of names dim, bool keepdim = False, *, torch.dtype dtype = None, Tensor out = None)\n"
     ]
    }
   ],
   "execution_count": 18
  },
  {
   "metadata": {},
   "cell_type": "code",
   "outputs": [],
   "execution_count": null,
   "source": [
    "from src.multiTrans import Tulip\n",
    "\n",
    "Tulip.generate"
   ],
   "id": "199887d5e9cd7da"
  },
  {
   "metadata": {},
   "cell_type": "markdown",
   "source": "Making a dataset",
   "id": "6cba5a165bd319f7"
  },
  {
   "metadata": {
    "ExecuteTime": {
     "end_time": "2025-04-03T18:16:09.356219Z",
     "start_time": "2025-04-03T18:16:06.060838Z"
    }
   },
   "cell_type": "code",
   "source": [
    "from src.multiTrans import TCRDataset\n",
    "import pandas as pd"
   ],
   "id": "bf0cf7a13af60b5",
   "outputs": [
    {
     "name": "stderr",
     "output_type": "stream",
     "text": [
      "/home/anagle/miniforge3/envs/tulip/lib/python3.13/site-packages/tqdm/auto.py:21: TqdmWarning: IProgress not found. Please update jupyter and ipywidgets. See https://ipywidgets.readthedocs.io/en/stable/user_install.html\n",
      "  from .autonotebook import tqdm as notebook_tqdm\n"
     ]
    }
   ],
   "execution_count": 2
  },
  {
   "metadata": {
    "ExecuteTime": {
     "end_time": "2025-04-03T18:55:27.747463Z",
     "start_time": "2025-04-03T18:55:27.740466Z"
    }
   },
   "cell_type": "code",
   "source": [
    "test_path = \"data/VDJ_test_single_example.csv\"\n",
    "device = \"cpu\"\n",
    "target_peptide = pd.read_csv(test_path)[\"peptide\"].unique()[0]\n",
    "mhctok = AutoTokenizer.from_pretrained(\"mhctok/\")\n",
    "tcr_dataset = TCRDataset(test_path, tokenizer, device,target_peptide=target_peptide, mhctok=mhctok)\n",
    "tcr_dataset_masked_peptide = tcr_dataset.generate_unconditional_data(mask_alpha=False, mask_beta=False, mask_peptide=True, mask_mhc=False)\n",
    "\n"
   ],
   "id": "6c445a7c5f6820fd",
   "outputs": [
    {
     "name": "stdout",
     "output_type": "stream",
     "text": [
      "Loading the data ...\n"
     ]
    }
   ],
   "execution_count": 24
  },
  {
   "metadata": {
    "ExecuteTime": {
     "end_time": "2025-04-03T18:19:23.836842Z",
     "start_time": "2025-04-03T18:19:23.832713Z"
    }
   },
   "cell_type": "code",
   "source": "tcr_dataset_masked_peptide[0]",
   "id": "610d08f0df5b6001",
   "outputs": [
    {
     "data": {
      "text/plain": [
       "('DGT', 'CAT', '<MIS>', 1, 'HLA-A*02:01')"
      ]
     },
     "execution_count": 16,
     "metadata": {},
     "output_type": "execute_result"
    }
   ],
   "execution_count": 16
  },
  {
   "metadata": {},
   "cell_type": "markdown",
   "source": "Example of using sample_tcr_denovo",
   "id": "257ffa9edba83175"
  },
  {
   "metadata": {
    "ExecuteTime": {
     "end_time": "2025-04-03T18:47:10.412815Z",
     "start_time": "2025-04-03T18:47:10.410126Z"
    }
   },
   "cell_type": "code",
   "source": "from src.multiTrans import sample_tcr_denovo",
   "id": "194cd1cb613faaca",
   "outputs": [],
   "execution_count": 17
  },
  {
   "metadata": {},
   "cell_type": "markdown",
   "source": "Difference between get_starting_batch and get_starting_batch_from_chain",
   "id": "630d820bc77e8f72"
  },
  {
   "metadata": {
    "ExecuteTime": {
     "end_time": "2025-04-03T18:47:56.608946Z",
     "start_time": "2025-04-03T18:47:56.606524Z"
    }
   },
   "cell_type": "code",
   "source": "from src.multiTrans import get_starting_batch, get_starting_batch_from_chain",
   "id": "b02316f7059e3ce0",
   "outputs": [],
   "execution_count": 18
  },
  {
   "metadata": {
    "ExecuteTime": {
     "end_time": "2025-04-03T18:52:51.733331Z",
     "start_time": "2025-04-03T18:52:51.725859Z"
    }
   },
   "cell_type": "code",
   "source": "get_starting_batch(peptide=target_peptide, tokenizer=tokenizer, mhctok=mhctok, device=\"cpu\")",
   "id": "50bc9b9bfe9dee",
   "outputs": [
    {
     "data": {
      "text/plain": [
       "({'input_ids': tensor([[ 3, 12, 19, 13,  2]]),\n",
       "  'token_type_ids': tensor([[0, 0, 0, 0, 0]]),\n",
       "  'attention_mask': tensor([[1, 1, 1, 1, 1]])},\n",
       " {'input_ids': tensor([[3, 4, 2]]),\n",
       "  'token_type_ids': tensor([[0, 0, 0]]),\n",
       "  'attention_mask': tensor([[1, 1, 1]])},\n",
       " {'input_ids': tensor([[3, 4, 2]]),\n",
       "  'token_type_ids': tensor([[0, 0, 0]]),\n",
       "  'attention_mask': tensor([[1, 1, 1]])},\n",
       " tensor([0]),\n",
       " {'input_ids': tensor([[1]]),\n",
       "  'token_type_ids': tensor([[0]]),\n",
       "  'attention_mask': tensor([[1]])})"
      ]
     },
     "execution_count": 22,
     "metadata": {},
     "output_type": "execute_result"
    }
   ],
   "execution_count": 22
  },
  {
   "metadata": {
    "ExecuteTime": {
     "end_time": "2025-04-03T18:55:31.535268Z",
     "start_time": "2025-04-03T18:55:31.526692Z"
    }
   },
   "cell_type": "code",
   "source": "get_starting_batch_from_chain(peptide=target_peptide, datainit=tcr_dataset, chain=\"alpha\")",
   "id": "62263958f3b2b2f2",
   "outputs": [
    {
     "data": {
      "text/plain": [
       "({'input_ids': tensor([[ 3, 12, 19, 13,  2]]),\n",
       "  'token_type_ids': tensor([[0, 0, 0, 0, 0]]),\n",
       "  'attention_mask': tensor([[1, 1, 1, 1, 1]])},\n",
       " {'input_ids': tensor([[ 3, 14,  7, 15,  2]]),\n",
       "  'token_type_ids': tensor([[0, 0, 0, 0, 0]]),\n",
       "  'attention_mask': tensor([[1, 1, 1, 1, 1]])},\n",
       " {'input_ids': tensor([[3, 4, 2]]),\n",
       "  'token_type_ids': tensor([[0, 0, 0]]),\n",
       "  'attention_mask': tensor([[1, 1, 1]])},\n",
       " tensor([1]),\n",
       " {'input_ids': tensor([[1]]),\n",
       "  'token_type_ids': tensor([[0]]),\n",
       "  'attention_mask': tensor([[1]])})"
      ]
     },
     "execution_count": 25,
     "metadata": {},
     "output_type": "execute_result"
    }
   ],
   "execution_count": 25
  },
  {
   "metadata": {},
   "cell_type": "markdown",
   "source": "Example of TCRDataset.select_chain",
   "id": "4ea4a3c6ce2e002c"
  },
  {
   "metadata": {
    "ExecuteTime": {
     "end_time": "2025-04-03T19:19:21.409614Z",
     "start_time": "2025-04-03T19:19:21.407424Z"
    }
   },
   "cell_type": "code",
   "source": "tcr_dataset_select_chain = tcr_dataset.select_chain(target_chain=\"both\")\n",
   "id": "d8e6a7b4e3a5de61",
   "outputs": [],
   "execution_count": 32
  },
  {
   "metadata": {
    "ExecuteTime": {
     "end_time": "2025-04-03T19:15:53.631166Z",
     "start_time": "2025-04-03T19:15:53.627605Z"
    }
   },
   "cell_type": "code",
   "source": "tcr_dataset_select_chain[0]",
   "id": "8ed05045dd2f42ad",
   "outputs": [
    {
     "data": {
      "text/plain": [
       "('DGT', 'CAT', 'KFR', 1, 'HLA-A*02:01')"
      ]
     },
     "execution_count": 31,
     "metadata": {},
     "output_type": "execute_result"
    }
   ],
   "execution_count": 31
  },
  {
   "metadata": {
    "ExecuteTime": {
     "end_time": "2025-04-03T19:23:53.601491Z",
     "start_time": "2025-04-03T19:23:53.599155Z"
    }
   },
   "cell_type": "code",
   "source": "tcr_dataset_select_peptide = tcr_dataset.select_peptide(target_peptide=target_peptide)",
   "id": "a9515b01ce0597d7",
   "outputs": [],
   "execution_count": 36
  },
  {
   "metadata": {
    "ExecuteTime": {
     "end_time": "2025-04-03T23:05:57.457428Z",
     "start_time": "2025-04-03T23:05:57.453370Z"
    }
   },
   "cell_type": "code",
   "source": "tcr_dataset_select_peptide[0]",
   "id": "9d72074d4b807217",
   "outputs": [
    {
     "data": {
      "text/plain": [
       "('DGT', 'CAT', 'KFR', 1, 'HLA-A*02:01')"
      ]
     },
     "execution_count": 37,
     "metadata": {},
     "output_type": "execute_result"
    }
   ],
   "execution_count": 37
  }
 ],
 "metadata": {
  "kernelspec": {
   "display_name": "Python 3",
   "language": "python",
   "name": "python3"
  },
  "language_info": {
   "codemirror_mode": {
    "name": "ipython",
    "version": 2
   },
   "file_extension": ".py",
   "mimetype": "text/x-python",
   "name": "python",
   "nbconvert_exporter": "python",
   "pygments_lexer": "ipython2",
   "version": "2.7.6"
  }
 },
 "nbformat": 4,
 "nbformat_minor": 5
}
